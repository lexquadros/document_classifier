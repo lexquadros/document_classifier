{
  "nbformat": 4,
  "nbformat_minor": 0,
  "metadata": {
    "anaconda-cloud": {},
    "kernelspec": {
      "display_name": "Python 3",
      "language": "python",
      "name": "python3"
    },
    "language_info": {
      "codemirror_mode": {
        "name": "ipython",
        "version": 3
      },
      "file_extension": ".py",
      "mimetype": "text/x-python",
      "name": "python",
      "nbconvert_exporter": "python",
      "pygments_lexer": "ipython3",
      "version": "3.7.3"
    },
    "colab": {
      "name": "document_classifier.ipynb",
      "provenance": [],
      "collapsed_sections": []
    },
    "accelerator": "GPU"
  },
  "cells": [
    {
      "cell_type": "markdown",
      "metadata": {
        "id": "lUDbp_boAJ6K"
      },
      "source": [
        "# Document Classifier with Multinomial Naive Bayes\n",
        "\n",
        "> For discret analisys. Useful to classifier reports, emails, medical information and many kinds of repetition patterns of words.\n",
        "\n",
        "\n",
        "      \n",
        "\n"
      ]
    },
    {
      "cell_type": "code",
      "metadata": {
        "id": "ijA44JIfAJ6M"
      },
      "source": [
        "# Import libraries\n",
        "import numpy as np\n",
        "from sklearn.datasets import fetch_20newsgroups # the dataset \n",
        "from sklearn.feature_extraction.text import CountVectorizer\n",
        "from sklearn.naive_bayes import MultinomialNB\n",
        "from sklearn.feature_extraction.text import TfidfTransformer # generates weights for the words\n",
        "from sklearn.pipeline import Pipeline # allocates the model in a pipeline\n",
        "from sklearn.model_selection import GridSearchCV # optimizes hyperparameters\n",
        "from sklearn import metrics\n",
        "import warnings\n",
        "warnings.filterwarnings(\"ignore\", category=FutureWarning)"
      ],
      "execution_count": null,
      "outputs": []
    },
    {
      "cell_type": "code",
      "metadata": {
        "id": "6Od8JbygBI4L",
        "colab": {
          "base_uri": "https://localhost:8080/"
        },
        "outputId": "c3877025-9830-44ea-fc8e-98a129921380"
      },
      "source": [
        "fetch_20newsgroups"
      ],
      "execution_count": null,
      "outputs": [
        {
          "output_type": "execute_result",
          "data": {
            "text/plain": [
              "<function sklearn.datasets._twenty_newsgroups.fetch_20newsgroups>"
            ]
          },
          "metadata": {
            "tags": []
          },
          "execution_count": 3
        }
      ]
    },
    {
      "cell_type": "code",
      "metadata": {
        "id": "F02-h1azAJ6R"
      },
      "source": [
        "# Defining categories \n",
        "# In this exemple I used only 4 out of 20 available to make the classification process faster\n",
        "categories = ['alt.atheism', 'soc.religion.christian', 'comp.graphics', 'sci.med']"
      ],
      "execution_count": null,
      "outputs": []
    },
    {
      "cell_type": "code",
      "metadata": {
        "id": "iT-nKv0YAJ6W",
        "colab": {
          "base_uri": "https://localhost:8080/"
        },
        "outputId": "f1a4869f-5f21-4f8d-bd41-6b4a0b995ed1"
      },
      "source": [
        "# training\n",
        "twenty_train = fetch_20newsgroups(subset = 'train', categories = categories, shuffle = True, random_state = 42)"
      ],
      "execution_count": null,
      "outputs": [
        {
          "output_type": "stream",
          "text": [
            "Downloading 20news dataset. This may take a few minutes.\n",
            "Downloading dataset from https://ndownloader.figshare.com/files/5975967 (14 MB)\n"
          ],
          "name": "stderr"
        }
      ]
    },
    {
      "cell_type": "code",
      "metadata": {
        "id": "YeSaz7c4AJ6d",
        "colab": {
          "base_uri": "https://localhost:8080/"
        },
        "outputId": "f0429d17-db2a-4da0-f952-5dca5b09c2d3"
      },
      "source": [
        "# Classes\n",
        "twenty_train.target_names"
      ],
      "execution_count": null,
      "outputs": [
        {
          "output_type": "execute_result",
          "data": {
            "text/plain": [
              "['alt.atheism', 'comp.graphics', 'sci.med', 'soc.religion.christian']"
            ]
          },
          "metadata": {
            "tags": []
          },
          "execution_count": 6
        }
      ]
    },
    {
      "cell_type": "code",
      "metadata": {
        "id": "rk0BvspzAJ6k",
        "colab": {
          "base_uri": "https://localhost:8080/"
        },
        "outputId": "8231479d-1b94-4b76-fd36-f98188301c76"
      },
      "source": [
        "len(twenty_train.data) # quantity of documents"
      ],
      "execution_count": null,
      "outputs": [
        {
          "output_type": "execute_result",
          "data": {
            "text/plain": [
              "2257"
            ]
          },
          "metadata": {
            "tags": []
          },
          "execution_count": 7
        }
      ]
    },
    {
      "cell_type": "code",
      "metadata": {
        "id": "HrQSbnKDAJ6q",
        "colab": {
          "base_uri": "https://localhost:8080/"
        },
        "outputId": "54ef212c-f4b4-4bd9-aa9b-0dcb2c42e035"
      },
      "source": [
        "# Visualizing some attributes \n",
        "print(\"\\n\".join(twenty_train.data[0].split(\"\\n\")[:10])) "
      ],
      "execution_count": null,
      "outputs": [
        {
          "output_type": "stream",
          "text": [
            "From: sd345@city.ac.uk (Michael Collier)\n",
            "Subject: Converting images to HP LaserJet III?\n",
            "Nntp-Posting-Host: hampton\n",
            "Organization: The City University\n",
            "Lines: 14\n",
            "\n",
            "Does anyone know of a good way (standard PC application/PD utility) to\n",
            "convert tif/img/tga files into LaserJet III format.  We would also like to\n",
            "do the same, converting to HPGL (HP plotter) files.\n",
            "\n"
          ],
          "name": "stdout"
        }
      ]
    },
    {
      "cell_type": "code",
      "metadata": {
        "id": "-xoAaaaqAJ6z",
        "colab": {
          "base_uri": "https://localhost:8080/"
        },
        "outputId": "3eb6c0ef-39a8-43d3-845d-68adf3bd336d"
      },
      "source": [
        "# Visualizing the target\n",
        "print(twenty_train.target_names[twenty_train.target[0]]) "
      ],
      "execution_count": null,
      "outputs": [
        {
          "output_type": "stream",
          "text": [
            "comp.graphics\n"
          ],
          "name": "stdout"
        }
      ]
    },
    {
      "cell_type": "code",
      "metadata": {
        "id": "MHDqMkh7AJ64",
        "colab": {
          "base_uri": "https://localhost:8080/"
        },
        "outputId": "dd3c1f1b-841b-4346-f94c-712b5cbfa73f"
      },
      "source": [
        "# Scikit-Learn creates a array to increase processing\n",
        "twenty_train.target[:10]"
      ],
      "execution_count": null,
      "outputs": [
        {
          "output_type": "execute_result",
          "data": {
            "text/plain": [
              "array([1, 1, 3, 3, 3, 3, 3, 2, 2, 2])"
            ]
          },
          "metadata": {
            "tags": []
          },
          "execution_count": 10
        }
      ]
    },
    {
      "cell_type": "code",
      "metadata": {
        "id": "w5eZEM8EAJ6-",
        "colab": {
          "base_uri": "https://localhost:8080/"
        },
        "outputId": "d31a00ca-2525-4421-a064-430513ec1965"
      },
      "source": [
        "# Visualizing the classes of 10 first records\n",
        "for t in twenty_train.target[:10]:\n",
        "    print(twenty_train.target_names[t])"
      ],
      "execution_count": null,
      "outputs": [
        {
          "output_type": "stream",
          "text": [
            "comp.graphics\n",
            "comp.graphics\n",
            "soc.religion.christian\n",
            "soc.religion.christian\n",
            "soc.religion.christian\n",
            "soc.religion.christian\n",
            "soc.religion.christian\n",
            "sci.med\n",
            "sci.med\n",
            "sci.med\n"
          ],
          "name": "stdout"
        }
      ]
    },
    {
      "cell_type": "markdown",
      "metadata": {
        "id": "2UsMbkmNAJ7D"
      },
      "source": [
        "Bag of Words \n",
        "\n"
      ]
    },
    {
      "cell_type": "code",
      "metadata": {
        "id": "LY7XxUUwAJ7F",
        "colab": {
          "base_uri": "https://localhost:8080/"
        },
        "outputId": "6026b519-7f79-431d-86f6-d2552f5b3ff2"
      },
      "source": [
        "# Tokenizing \n",
        "count_vect = CountVectorizer()\n",
        "X_train_counts = count_vect.fit_transform(twenty_train.data)\n",
        "count_vect.vocabulary_.get(u'algorithm')\n",
        "X_train_counts.shape\n"
      ],
      "execution_count": null,
      "outputs": [
        {
          "output_type": "execute_result",
          "data": {
            "text/plain": [
              "(2257, 35788)"
            ]
          },
          "metadata": {
            "tags": []
          },
          "execution_count": 13
        }
      ]
    },
    {
      "cell_type": "code",
      "metadata": {
        "id": "uPLwvCBhAJ7O",
        "colab": {
          "base_uri": "https://localhost:8080/"
        },
        "outputId": "1565a7c3-8383-42d3-f1b4-c3950e381fbe"
      },
      "source": [
        "# Term Frequency times Inverse Document Frequency (Tfidf)\n",
        "tf_transformer = TfidfTransformer(use_idf = False).fit(X_train_counts)\n",
        "X_train_tf = tf_transformer.transform(X_train_counts)\n",
        "X_train_tf.shape"
      ],
      "execution_count": null,
      "outputs": [
        {
          "output_type": "execute_result",
          "data": {
            "text/plain": [
              "(2257, 35788)"
            ]
          },
          "metadata": {
            "tags": []
          },
          "execution_count": 14
        }
      ]
    },
    {
      "cell_type": "code",
      "metadata": {
        "id": "6gj7RrdbAJ7T",
        "colab": {
          "base_uri": "https://localhost:8080/"
        },
        "outputId": "3250ed33-b714-4769-9323-ae63e8eb9ad1"
      },
      "source": [
        "# Same results as above, but combining functions\n",
        "tfidf_transformer = TfidfTransformer()\n",
        "X_train_tfidf = tfidf_transformer.fit_transform(X_train_counts)\n",
        "X_train_tfidf.shape"
      ],
      "execution_count": null,
      "outputs": [
        {
          "output_type": "execute_result",
          "data": {
            "text/plain": [
              "(2257, 35788)"
            ]
          },
          "metadata": {
            "tags": []
          },
          "execution_count": 15
        }
      ]
    },
    {
      "cell_type": "code",
      "metadata": {
        "id": "wrpWXcRBAJ7Y"
      },
      "source": [
        "# Creating a Multinomial Model\n",
        "clf = MultinomialNB().fit(X_train_tfidf, twenty_train.target) "
      ],
      "execution_count": null,
      "outputs": []
    },
    {
      "cell_type": "code",
      "metadata": {
        "id": "XbCQpRraAJ7d",
        "colab": {
          "base_uri": "https://localhost:8080/"
        },
        "outputId": "dbe178f2-46d4-43fc-a0dc-17be60701f00"
      },
      "source": [
        "# testing a new document entrance\n",
        "docs_new = ['Antibiotics']\n",
        "X_new_counts = count_vect.transform(docs_new) \n",
        "X_new_tfidf = tfidf_transformer.transform(X_new_counts) \n",
        "\n",
        "predicted = clf.predict(X_new_tfidf)\n",
        "\n",
        "for doc, category in zip(docs_new, predicted):\n",
        "    print('%r => %s' % (doc, twenty_train.target_names[category]))"
      ],
      "execution_count": null,
      "outputs": [
        {
          "output_type": "stream",
          "text": [
            "'Antibiotics' => sci.med\n"
          ],
          "name": "stdout"
        }
      ]
    },
    {
      "cell_type": "code",
      "metadata": {
        "id": "Q9fd9ikeAJ7g"
      },
      "source": [
        "# Pipeline - Composite classifier\n",
        "# vectorizer => transform => classifier \n",
        "text_clf = Pipeline([('vect', CountVectorizer()),\n",
        "                     ('tfidf', TfidfTransformer()),\n",
        "                     ('clf', MultinomialNB()),\n",
        "])"
      ],
      "execution_count": null,
      "outputs": []
    },
    {
      "cell_type": "code",
      "metadata": {
        "id": "iFZrgbDbAJ7k"
      },
      "source": [
        "# Fit\n",
        "text_clf = text_clf.fit(twenty_train.data, twenty_train.target)"
      ],
      "execution_count": null,
      "outputs": []
    },
    {
      "cell_type": "code",
      "metadata": {
        "id": "rgAxl2vuAJ7p",
        "colab": {
          "base_uri": "https://localhost:8080/"
        },
        "outputId": "49ab46c5-b4df-4e3a-c76e-31dd987267b0"
      },
      "source": [
        "# Accuracy of the Model\n",
        "twenty_test = fetch_20newsgroups(subset = 'test', categories = categories, shuffle = True, random_state = 42)\n",
        "docs_test = twenty_test.data\n",
        "predicted = text_clf.predict(docs_test)\n",
        "np.mean(predicted == twenty_test.target)    "
      ],
      "execution_count": null,
      "outputs": [
        {
          "output_type": "execute_result",
          "data": {
            "text/plain": [
              "0.8348868175765646"
            ]
          },
          "metadata": {
            "tags": []
          },
          "execution_count": 27
        }
      ]
    },
    {
      "cell_type": "code",
      "metadata": {
        "id": "ssvMWGG-AJ7t",
        "colab": {
          "base_uri": "https://localhost:8080/"
        },
        "outputId": "399b0ec4-c8e9-4174-a414-c8e7b8cdec3d"
      },
      "source": [
        "# Metrics\n",
        "print(metrics.classification_report(twenty_test.target, predicted, target_names = twenty_test.target_names))\n"
      ],
      "execution_count": null,
      "outputs": [
        {
          "output_type": "stream",
          "text": [
            "                        precision    recall  f1-score   support\n",
            "\n",
            "           alt.atheism       0.97      0.60      0.74       319\n",
            "         comp.graphics       0.96      0.89      0.92       389\n",
            "               sci.med       0.97      0.81      0.88       396\n",
            "soc.religion.christian       0.65      0.99      0.78       398\n",
            "\n",
            "              accuracy                           0.83      1502\n",
            "             macro avg       0.89      0.82      0.83      1502\n",
            "          weighted avg       0.88      0.83      0.84      1502\n",
            "\n"
          ],
          "name": "stdout"
        }
      ]
    },
    {
      "cell_type": "code",
      "metadata": {
        "id": "ysjwM3e1AJ7w",
        "colab": {
          "base_uri": "https://localhost:8080/",
          "height": 85
        },
        "outputId": "43c7ee82-831e-4c4a-fe64-19969a32d83f"
      },
      "source": [
        "# Confusion Matrix\n",
        "metrics.confusion_matrix(twenty_test.target, predicted)\n"
      ],
      "execution_count": null,
      "outputs": [
        {
          "output_type": "execute_result",
          "data": {
            "text/plain": [
              "array([[192,   2,   6, 119],\n",
              "       [  2, 347,   4,  36],\n",
              "       [  2,  11, 322,  61],\n",
              "       [  2,   2,   1, 393]])"
            ]
          },
          "metadata": {
            "tags": []
          },
          "execution_count": 29
        }
      ]
    },
    {
      "cell_type": "code",
      "metadata": {
        "id": "YZfNsw4iAJ7y"
      },
      "source": [
        "# Parameters for GridSearchCV - tuning of hyperparameters\n",
        "parameters = {'vect__ngram_range': [(1, 1), (1, 2)], #\n",
        "              'tfidf__use_idf': (True, False),\n",
        "              'clf__alpha': (1e-2, 1e-3),\n",
        "}"
      ],
      "execution_count": null,
      "outputs": []
    },
    {
      "cell_type": "code",
      "metadata": {
        "id": "ERYUdHs_AJ71"
      },
      "source": [
        "# GridSearchCV - classifier\n",
        "gs_clf = GridSearchCV(text_clf, parameters, n_jobs = -1)"
      ],
      "execution_count": null,
      "outputs": []
    },
    {
      "cell_type": "code",
      "metadata": {
        "id": "hxkKtDH9AJ74"
      },
      "source": [
        "# Fit\n",
        "gs_clf = gs_clf.fit(twenty_train.data[:400], twenty_train.target[:400])"
      ],
      "execution_count": null,
      "outputs": []
    },
    {
      "cell_type": "code",
      "metadata": {
        "id": "gsIu7ndhAJ78",
        "colab": {
          "base_uri": "https://localhost:8080/",
          "height": 35
        },
        "outputId": "bf80e50f-d820-41c0-82fe-287328ff97e4"
      },
      "source": [
        "# Test\n",
        "twenty_train.target_names[gs_clf.predict(['Lord', 'see', 'priest', 'intel'])[0]]"
      ],
      "execution_count": null,
      "outputs": [
        {
          "output_type": "execute_result",
          "data": {
            "application/vnd.google.colaboratory.intrinsic+json": {
              "type": "string"
            },
            "text/plain": [
              "'soc.religion.christian'"
            ]
          },
          "metadata": {
            "tags": []
          },
          "execution_count": 46
        }
      ]
    },
    {
      "cell_type": "code",
      "metadata": {
        "id": "_N8AbcTqAJ8A",
        "colab": {
          "base_uri": "https://localhost:8080/"
        },
        "outputId": "5acd3d96-8f6e-4bb8-80c2-a0e6ec43edfe"
      },
      "source": [
        "# Score -it improved with tuning?\n",
        "gs_clf.best_score_        "
      ],
      "execution_count": null,
      "outputs": [
        {
          "output_type": "execute_result",
          "data": {
            "text/plain": [
              "0.9349999999999999"
            ]
          },
          "metadata": {
            "tags": []
          },
          "execution_count": 47
        }
      ]
    },
    {
      "cell_type": "code",
      "metadata": {
        "id": "r2U0CjUQAJ8H",
        "colab": {
          "base_uri": "https://localhost:8080/"
        },
        "outputId": "07ebcbf2-5411-4bbf-a466-210e4b66bc5e"
      },
      "source": [
        "# the parameters used\n",
        "for param_name in sorted(parameters.keys()):\n",
        "    print(\"%s: %r\" % (param_name, gs_clf.best_params_[param_name]))"
      ],
      "execution_count": null,
      "outputs": [
        {
          "output_type": "stream",
          "text": [
            "clf__alpha: 0.01\n",
            "tfidf__use_idf: True\n",
            "vect__ngram_range: (1, 2)\n"
          ],
          "name": "stdout"
        }
      ]
    }
  ]
}